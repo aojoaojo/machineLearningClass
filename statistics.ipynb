{
 "cells": [
  {
   "cell_type": "code",
   "execution_count": 1,
   "metadata": {},
   "outputs": [],
   "source": [
    "import numpy as np\n",
    "import statistics as st"
   ]
  },
  {
   "cell_type": "code",
   "execution_count": 2,
   "metadata": {},
   "outputs": [],
   "source": [
    "data = [25, 25, 29, 30, 32, 65, 65, 65, 90]"
   ]
  },
  {
   "cell_type": "code",
   "execution_count": 3,
   "metadata": {},
   "outputs": [],
   "source": [
    "media = np.mean(data)\n",
    "mediana = np.median(data)\n",
    "moda = np.argmax(np.bincount(data))"
   ]
  },
  {
   "cell_type": "code",
   "execution_count": 4,
   "metadata": {},
   "outputs": [
    {
     "name": "stdout",
     "output_type": "stream",
     "text": [
      "47.333333333333336\n",
      "32.0\n",
      "65\n"
     ]
    }
   ],
   "source": [
    "print(media)\n",
    "print(mediana)\n",
    "print(moda)"
   ]
  },
  {
   "cell_type": "code",
   "execution_count": 8,
   "metadata": {},
   "outputs": [],
   "source": [
    "variancia = np.var(data)\n",
    "desvioPadrao = np.std(data)\n",
    "amplitude = np.max(data) - np.min(data)\n",
    "\n",
    "variancia2 = st.pvariance(data)\n",
    "desvioPadrao2 = st.pstdev(data)\n",
    "amplitude2 = max(data) - min(data)"
   ]
  },
  {
   "cell_type": "code",
   "execution_count": 10,
   "metadata": {},
   "outputs": [
    {
     "name": "stdout",
     "output_type": "stream",
     "text": [
      "514.0\n",
      "22.67156809750927\n",
      "65\n",
      "\n",
      "\n",
      "514\n",
      "22.67156809750927\n",
      "65\n"
     ]
    }
   ],
   "source": [
    "print(variancia)\n",
    "print(desvioPadrao)\n",
    "print(amplitude)\n",
    "\n",
    "print('\\n')\n",
    "\n",
    "print(variancia2)\n",
    "print(desvioPadrao2)\n",
    "print(amplitude2)"
   ]
  },
  {
   "cell_type": "code",
   "execution_count": 11,
   "metadata": {},
   "outputs": [],
   "source": [
    "import pandas as pd"
   ]
  },
  {
   "cell_type": "code",
   "execution_count": 12,
   "metadata": {},
   "outputs": [],
   "source": [
    "intervalSize = 10\n",
    "numIntervals = (100-1) // intervalSize + 1\n",
    "intervals = [(i, i + intervalSize - 1) for i in range(1,100, intervalSize)]"
   ]
  },
  {
   "cell_type": "code",
   "execution_count": 13,
   "metadata": {},
   "outputs": [
    {
     "name": "stdout",
     "output_type": "stream",
     "text": [
      "[(1, 10), (11, 20), (21, 30), (31, 40), (41, 50), (51, 60), (61, 70), (71, 80), (81, 90), (91, 100)]\n"
     ]
    }
   ],
   "source": [
    "print(intervals)"
   ]
  },
  {
   "cell_type": "code",
   "execution_count": null,
   "metadata": {},
   "outputs": [],
   "source": []
  }
 ],
 "metadata": {
  "kernelspec": {
   "display_name": "Python 3",
   "language": "python",
   "name": "python3"
  },
  "language_info": {
   "codemirror_mode": {
    "name": "ipython",
    "version": 3
   },
   "file_extension": ".py",
   "mimetype": "text/x-python",
   "name": "python",
   "nbconvert_exporter": "python",
   "pygments_lexer": "ipython3",
   "version": "3.10.12"
  },
  "orig_nbformat": 4
 },
 "nbformat": 4,
 "nbformat_minor": 2
}
